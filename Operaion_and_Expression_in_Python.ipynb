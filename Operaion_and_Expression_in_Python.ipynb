{
  "nbformat": 4,
  "nbformat_minor": 0,
  "metadata": {
    "colab": {
      "provenance": [],
      "authorship_tag": "ABX9TyNlFdUVK0y0jfs5+YJEa2Pz",
      "include_colab_link": true
    },
    "kernelspec": {
      "name": "python3",
      "display_name": "Python 3"
    },
    "language_info": {
      "name": "python"
    }
  },
  "cells": [
    {
      "cell_type": "markdown",
      "metadata": {
        "id": "view-in-github",
        "colab_type": "text"
      },
      "source": [
        "<a href=\"https://colab.research.google.com/github/RovicCallorina/OOP-58001/blob/main/Operaion_and_Expression_in_Python.ipynb\" target=\"_parent\"><img src=\"https://colab.research.google.com/assets/colab-badge.svg\" alt=\"Open In Colab\"/></a>"
      ]
    },
    {
      "cell_type": "markdown",
      "source": [
        "Boolean operators"
      ],
      "metadata": {
        "id": "6F8OThOPTC-I"
      }
    },
    {
      "cell_type": "code",
      "source": [
        "print (10>9)\n",
        "print (10==9)\n",
        "print (10<9)"
      ],
      "metadata": {
        "colab": {
          "base_uri": "https://localhost:8080/"
        },
        "id": "A_X7-X6jTRhV",
        "outputId": "3db6cf2d-824c-41c2-e908-b836df598775"
      },
      "execution_count": 3,
      "outputs": [
        {
          "output_type": "stream",
          "name": "stdout",
          "text": [
            "True\n",
            "False\n",
            "False\n"
          ]
        }
      ]
    },
    {
      "cell_type": "markdown",
      "source": [
        "Bool function"
      ],
      "metadata": {
        "id": "zXtJGhCyUgSk"
      }
    },
    {
      "cell_type": "code",
      "source": [
        "print(bool(\"vic\"))\n",
        "print(bool(\"1\"))\n",
        "print(bool(0))\n",
        "print(bool(None))\n",
        "print(bool(\"true\"))"
      ],
      "metadata": {
        "colab": {
          "base_uri": "https://localhost:8080/"
        },
        "id": "t3tIdHGbUiHE",
        "outputId": "149c762e-3e11-4ca4-82ac-c8c331d7b0f2"
      },
      "execution_count": 12,
      "outputs": [
        {
          "output_type": "stream",
          "name": "stdout",
          "text": [
            "True\n",
            "True\n",
            "False\n",
            "False\n",
            "True\n"
          ]
        }
      ]
    },
    {
      "cell_type": "markdown",
      "source": [
        "Function can return a boolean "
      ],
      "metadata": {
        "id": "5r06PKXWVaiD"
      }
    },
    {
      "cell_type": "code",
      "source": [
        "def myFunction():\n",
        "  return True\n",
        "\n",
        "print(myFunction())"
      ],
      "metadata": {
        "colab": {
          "base_uri": "https://localhost:8080/"
        },
        "id": "YYrwW4A1VgYy",
        "outputId": "c2b564b4-96e0-405a-e7eb-38674e1e6470"
      },
      "execution_count": 20,
      "outputs": [
        {
          "output_type": "stream",
          "name": "stdout",
          "text": [
            "True\n"
          ]
        }
      ]
    },
    {
      "cell_type": "markdown",
      "source": [
        "If else"
      ],
      "metadata": {
        "id": "G--iRFSUWnjo"
      }
    },
    {
      "cell_type": "code",
      "source": [
        "def Vic():\n",
        "  return True\n",
        "\n",
        "if Vic():\n",
        "  print(\"Yes\")\n",
        "else:\n",
        "  print (\"No\")"
      ],
      "metadata": {
        "colab": {
          "base_uri": "https://localhost:8080/"
        },
        "id": "xtDNiVQkWlyh",
        "outputId": "713dc79e-48aa-4039-d444-fde95c4c9bdd"
      },
      "execution_count": 35,
      "outputs": [
        {
          "output_type": "stream",
          "name": "stdout",
          "text": [
            "Yes\n"
          ]
        }
      ]
    },
    {
      "cell_type": "code",
      "source": [
        "print(10>9)\n",
        "\n",
        "a = 6\n",
        "b = 7\n",
        "print (a == b)\n",
        "print( a!= a)"
      ],
      "metadata": {
        "colab": {
          "base_uri": "https://localhost:8080/"
        },
        "id": "6eCsEaxKXa0x",
        "outputId": "8f225a34-3c76-4331-f565-584ce145e822"
      },
      "execution_count": 32,
      "outputs": [
        {
          "output_type": "stream",
          "name": "stdout",
          "text": [
            "True\n",
            "False\n",
            "False\n"
          ]
        }
      ]
    },
    {
      "cell_type": "markdown",
      "source": [
        "Python operators"
      ],
      "metadata": {
        "id": "mDE8kGN-X3e7"
      }
    },
    {
      "cell_type": "code",
      "source": [
        "print(10 + 5)\n",
        "print(10 - 5)\n",
        "print(10 * 5)\n",
        "print(10 / 5)\n",
        "print (10 % 5)\n",
        "print(10 // 3) #//Integer,\n",
        "print(10**3)"
      ],
      "metadata": {
        "colab": {
          "base_uri": "https://localhost:8080/"
        },
        "id": "CWoxwcdQX5JD",
        "outputId": "5397021f-9602-4175-8d11-22ddf82cb62e"
      },
      "execution_count": 40,
      "outputs": [
        {
          "output_type": "stream",
          "name": "stdout",
          "text": [
            "15\n",
            "5\n",
            "50\n",
            "2.0\n",
            "0\n",
            "3\n",
            "1000\n"
          ]
        }
      ]
    },
    {
      "cell_type": "markdown",
      "source": [
        "Bitwise operators"
      ],
      "metadata": {
        "id": "IgQ0zK5QZY9l"
      }
    },
    {
      "cell_type": "code",
      "source": [
        "a = 60\n",
        "b = 13\n",
        "\n",
        "a>>1"
      ],
      "metadata": {
        "colab": {
          "base_uri": "https://localhost:8080/"
        },
        "id": "iz1WwVWNZyss",
        "outputId": "7fa05f15-789d-43b1-bf08-3dba917a8f5c"
      },
      "execution_count": 41,
      "outputs": [
        {
          "output_type": "execute_result",
          "data": {
            "text/plain": [
              "30"
            ]
          },
          "metadata": {},
          "execution_count": 41
        }
      ]
    },
    {
      "cell_type": "markdown",
      "source": [
        "Python Assignment Operators"
      ],
      "metadata": {
        "id": "JX7TVU5ahDTy"
      }
    },
    {
      "cell_type": "code",
      "source": [
        "x = 5\n",
        "\n",
        "x += 3          #same as x = x + 3\n",
        "print(x)\n",
        "\n",
        "x -= 3          #same as x = x - 3\n",
        "print (x)\n",
        "\n",
        "x *= 3          #same as x = x * 3\n",
        "print (x)\n",
        "\n",
        "x /= 3          #same as x = x / 3\n",
        "print(x)\n",
        "\n",
        "x %= 3          #same as x = x % 3\n",
        "print (x)"
      ],
      "metadata": {
        "colab": {
          "base_uri": "https://localhost:8080/"
        },
        "id": "mz1xASTThFwZ",
        "outputId": "568b7ab8-3ece-483e-c29f-acd3be32ea86"
      },
      "execution_count": 54,
      "outputs": [
        {
          "output_type": "stream",
          "name": "stdout",
          "text": [
            "8\n",
            "5\n",
            "15\n",
            "5.0\n",
            "2.0\n"
          ]
        }
      ]
    },
    {
      "cell_type": "markdown",
      "source": [
        "Logical Operators"
      ],
      "metadata": {
        "id": "R4y1YTxqjHC1"
      }
    },
    {
      "cell_type": "code",
      "source": [
        "#and or xor not\n",
        "a = True\n",
        "b = False\n",
        "\n",
        "print (not a)\n",
        "print (a and b)"
      ],
      "metadata": {
        "colab": {
          "base_uri": "https://localhost:8080/"
        },
        "id": "Vf6AUaVGjIS_",
        "outputId": "25959677-0575-488d-d540-863becb56948"
      },
      "execution_count": 57,
      "outputs": [
        {
          "output_type": "stream",
          "name": "stdout",
          "text": [
            "False\n",
            "False\n"
          ]
        }
      ]
    },
    {
      "cell_type": "markdown",
      "source": [
        "Identity Operators"
      ],
      "metadata": {
        "id": "vqJIoP_zj42X"
      }
    },
    {
      "cell_type": "code",
      "source": [
        "a = True\n",
        "b = False\n",
        "\n",
        "print (a is a)\n",
        "print (a is b)"
      ],
      "metadata": {
        "colab": {
          "base_uri": "https://localhost:8080/"
        },
        "id": "k4dhIJzAkI4W",
        "outputId": "91915e23-1480-4353-c650-ca9f55e3e28f"
      },
      "execution_count": 62,
      "outputs": [
        {
          "output_type": "stream",
          "name": "stdout",
          "text": [
            "True\n",
            "False\n"
          ]
        }
      ]
    }
  ]
}