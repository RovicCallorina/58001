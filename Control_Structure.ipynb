{
  "nbformat": 4,
  "nbformat_minor": 0,
  "metadata": {
    "colab": {
      "provenance": [],
      "authorship_tag": "ABX9TyMHCHGl7M1OTj1pxjJtlfun",
      "include_colab_link": true
    },
    "kernelspec": {
      "name": "python3",
      "display_name": "Python 3"
    },
    "language_info": {
      "name": "python"
    }
  },
  "cells": [
    {
      "cell_type": "markdown",
      "metadata": {
        "id": "view-in-github",
        "colab_type": "text"
      },
      "source": [
        "<a href=\"https://colab.research.google.com/github/RovicCallorina/OOP-58001/blob/main/Control_Structure.ipynb\" target=\"_parent\"><img src=\"https://colab.research.google.com/assets/colab-badge.svg\" alt=\"Open In Colab\"/></a>"
      ]
    },
    {
      "cell_type": "markdown",
      "source": [
        "Conditonal Statement"
      ],
      "metadata": {
        "id": "dTp32JV2Dv_P"
      }
    },
    {
      "cell_type": "code",
      "source": [
        "#if statement\n",
        "  #1 condition\n",
        "a = 12\n",
        "b = 100\n",
        "\n",
        "if b > a:\n",
        "  print(\"b is greater than a\")"
      ],
      "metadata": {
        "colab": {
          "base_uri": "https://localhost:8080/"
        },
        "id": "wVaqOKdUER_u",
        "outputId": "095cff8c-e103-45d4-cff3-34de06ba66dd"
      },
      "execution_count": null,
      "outputs": [
        {
          "output_type": "stream",
          "name": "stdout",
          "text": [
            "b is greater than a\n"
          ]
        }
      ]
    },
    {
      "cell_type": "code",
      "source": [
        "#input variable\n",
        "x = input()\n",
        "y = input()\n",
        "\n",
        "if x>y:  \n",
        "  print(x +\" is greater than \"+ y)\n",
        "elif y>x:\n",
        "  print(y +\" is greater than \"+ x)"
      ],
      "metadata": {
        "colab": {
          "base_uri": "https://localhost:8080/"
        },
        "id": "bnXq1WP2II0E",
        "outputId": "dae928b7-c86b-4a55-c4ad-05a70219b500"
      },
      "execution_count": null,
      "outputs": [
        {
          "output_type": "stream",
          "name": "stdout",
          "text": [
            "7\n",
            "8\n",
            "8 is greater than 7\n"
          ]
        }
      ]
    },
    {
      "cell_type": "code",
      "source": [
        "#elif\n",
        "  #2 conditions\n",
        "\n",
        "a = 12\n",
        "b = 12\n",
        "\n",
        "if b > a:\n",
        "  print(\"b is greater than a\")\n",
        "elif a==b:\n",
        "  print('a and b are equal')"
      ],
      "metadata": {
        "colab": {
          "base_uri": "https://localhost:8080/"
        },
        "id": "-G0gXhI0Eseu",
        "outputId": "2f66221b-74fc-4c4c-a1a2-91fa11bd9f5e"
      },
      "execution_count": null,
      "outputs": [
        {
          "output_type": "stream",
          "name": "stdout",
          "text": [
            "a and b are equal\n"
          ]
        }
      ]
    },
    {
      "cell_type": "code",
      "source": [
        "#elif\n",
        "\n",
        "a = 100\n",
        "b = 50\n",
        "\n",
        "if b > a:\n",
        "  print(\"b is greater than a\")\n",
        "elif a>b:\n",
        "  print('a is greater than b')"
      ],
      "metadata": {
        "colab": {
          "base_uri": "https://localhost:8080/"
        },
        "id": "B4AaieT2Hw6l",
        "outputId": "6bd28300-6dba-456d-c816-6da07819d9f4"
      },
      "execution_count": null,
      "outputs": [
        {
          "output_type": "stream",
          "name": "stdout",
          "text": [
            "a is greater than b\n"
          ]
        }
      ]
    },
    {
      "cell_type": "code",
      "source": [
        "#else\n",
        "#3 condition\n",
        "a = 200\n",
        "b = 200\n",
        "\n",
        "if b > a:\n",
        "  print(\"b is greater than a\")\n",
        "elif a==b:\n",
        "  print('a and b are equal')\n",
        "else:\n",
        "  print(\"a is greater than b\")"
      ],
      "metadata": {
        "colab": {
          "base_uri": "https://localhost:8080/"
        },
        "id": "T6ivTrBfE8KF",
        "outputId": "45e83b2c-4330-41fe-9539-3a3012535950"
      },
      "execution_count": null,
      "outputs": [
        {
          "output_type": "stream",
          "name": "stdout",
          "text": [
            "a and b are equal\n"
          ]
        }
      ]
    },
    {
      "cell_type": "code",
      "source": [],
      "metadata": {
        "colab": {
          "base_uri": "https://localhost:8080/"
        },
        "id": "RQMBo4pMGJlG",
        "outputId": "5628652e-57cf-40bf-8da9-2f7e1c0b306f"
      },
      "execution_count": null,
      "outputs": [
        {
          "output_type": "stream",
          "name": "stdout",
          "text": [
            "7\n",
            "9\n",
            "9 is greater than 7\n"
          ]
        }
      ]
    },
    {
      "cell_type": "code",
      "source": [
        "#Nested if"
      ],
      "metadata": {
        "id": "A1ap6TH5ItLd"
      },
      "execution_count": null,
      "outputs": []
    },
    {
      "cell_type": "code",
      "source": [
        "x = 41\n",
        "\n",
        "if x > 10:\n",
        "  print(\"Above ten,\")\n",
        "  if x > 20:\n",
        "    print(\"and also above 20\")\n",
        "    if x > 30:\n",
        "        print(\"and is above 30\")\n",
        "        if x > 40:\n",
        "          print(\"And is above 40\")\n",
        "          if x > 50:\n",
        "            print(\"and is above 50\")\n",
        "          else: \n",
        "              print(\"and below 50\")\n",
        "        else:\n",
        "            print(\"but below 40\")\n",
        "    else: \n",
        "          print(\"but below 30\")\n",
        "  else: \n",
        "      print(\"but below 20\")\n",
        "else :\n",
        "  print(\"but not above 20.\")"
      ],
      "metadata": {
        "colab": {
          "base_uri": "https://localhost:8080/"
        },
        "id": "09YWUzduIwiU",
        "outputId": "26f889c8-b9ac-4825-da96-2edfaed517a4"
      },
      "execution_count": null,
      "outputs": [
        {
          "output_type": "stream",
          "name": "stdout",
          "text": [
            "Above ten,\n",
            "and also above 20\n",
            "and is above 30\n",
            "And is above 40\n",
            "and below 50\n"
          ]
        }
      ]
    },
    {
      "cell_type": "code",
      "source": [
        "#Example 1\n",
        "x = int(input())\n",
        "\n",
        "if x >= 18:\n",
        "  print(\"you are allowed to vote!\")\n",
        "else:\n",
        "  print(\"You are not allowed!\")"
      ],
      "metadata": {
        "colab": {
          "base_uri": "https://localhost:8080/"
        },
        "id": "HaWrwBZBMy27",
        "outputId": "e75d21bf-684a-42bc-a888-fe55bdb8a0e9"
      },
      "execution_count": null,
      "outputs": [
        {
          "output_type": "stream",
          "name": "stdout",
          "text": [
            "16\n",
            "You are not allowed!\n"
          ]
        }
      ]
    },
    {
      "cell_type": "code",
      "source": [
        "#Example 2\n",
        "x = float(input())\n",
        "\n",
        "if x > 0:\n",
        "  print(\"Positive\")\n",
        "elif x < 0:\n",
        "  print(\"Negative\")\n",
        "else:\n",
        "  print(\"ZERO\")"
      ],
      "metadata": {
        "colab": {
          "base_uri": "https://localhost:8080/"
        },
        "id": "kMyKuT55NlUL",
        "outputId": "3f5e5a19-b4fa-4699-e801-199db11170bb"
      },
      "execution_count": null,
      "outputs": [
        {
          "output_type": "stream",
          "name": "stdout",
          "text": [
            "-9\n",
            "Negative\n"
          ]
        }
      ]
    },
    {
      "cell_type": "code",
      "source": [
        "#example 3\n",
        "\n",
        "grade = float(input())\n",
        "\n",
        "if grade >= 70 and grade <= 100:\n",
        "  print(\"Passed\")\n",
        "elif grade >= 65 and grade < 70:\n",
        "  print(\"Remedial\")\n",
        "elif grade >= 0:\n",
        "    print(\"Failed\")\n",
        "else:\n",
        "  print(\"Invalid!\")"
      ],
      "metadata": {
        "colab": {
          "base_uri": "https://localhost:8080/"
        },
        "id": "lveNQz12PQnE",
        "outputId": "e8ba49c1-a8d2-478a-a02a-9e97f4aeee5d"
      },
      "execution_count": 118,
      "outputs": [
        {
          "output_type": "stream",
          "name": "stdout",
          "text": [
            "79.99\n",
            "Passed\n"
          ]
        }
      ]
    }
  ]
}