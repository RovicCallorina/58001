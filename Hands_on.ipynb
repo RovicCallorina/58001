{
  "nbformat": 4,
  "nbformat_minor": 0,
  "metadata": {
    "colab": {
      "provenance": [],
      "authorship_tag": "ABX9TyNvHHfmPvu7kCK2Mww6JJJL",
      "include_colab_link": true
    },
    "kernelspec": {
      "name": "python3",
      "display_name": "Python 3"
    },
    "language_info": {
      "name": "python"
    }
  },
  "cells": [
    {
      "cell_type": "markdown",
      "metadata": {
        "id": "view-in-github",
        "colab_type": "text"
      },
      "source": [
        "<a href=\"https://colab.research.google.com/github/RovicCallorina/OOP-58001/blob/main/Hands_on.ipynb\" target=\"_parent\"><img src=\"https://colab.research.google.com/assets/colab-badge.svg\" alt=\"Open In Colab\"/></a>"
      ]
    },
    {
      "cell_type": "code",
      "source": [
        "class Person:\n",
        "  def  __init__ (self, pre, mid, fin, std):\n",
        "    self.__std = std\n",
        "    self.__pre = pre\n",
        "    self.__mid = mid\n",
        "    self.__fin = fin\n",
        "\n",
        "  def Average(self):\n",
        "    return (self.__pre + self.__mid  + self.__fin)  / 3\n",
        "\n",
        "  def display(self):\n",
        "    print(f\"Student name:\", self.__std)\n",
        "    print(f\"Prelim:\", self.__pre)\n",
        "    print(f\"Midterm:\", self.__mid)\n",
        "    print(f\"Finals: \", self.__fin)\n",
        "    print(f\"Average:\" , self.Average())\n",
        "    print(\" \") \n",
        "\n",
        "class std_1(Person):\n",
        "  pass \n",
        "class std_2(Person):\n",
        "  pass\n",
        "class std_3(Person):\n",
        "  pass\n",
        "  \n",
        "std_1 = Person (87, 90, 96, \"student_1\")\n",
        "std_1.display()\n",
        "\n",
        "std_2 = Person (97, 98, 97, \"student_2\")\n",
        "std_2.display()\n",
        "\n",
        "std_3 = Person (75, 82, 76, \"student_3\")\n",
        "std_3.display()\n",
        "\n",
        "\n",
        "\n"
      ],
      "metadata": {
        "colab": {
          "base_uri": "https://localhost:8080/"
        },
        "id": "eA8GfREGaaRx",
        "outputId": "c1b99f24-241f-4abc-a5d7-7ca2813a3b26"
      },
      "execution_count": 60,
      "outputs": [
        {
          "output_type": "stream",
          "name": "stdout",
          "text": [
            "Student name: student_1\n",
            "Prelim: 87\n",
            "Midterm: 90\n",
            "Finals:  96\n",
            "Average: 91.0\n",
            " \n",
            "Student name: student_2\n",
            "Prelim: 97\n",
            "Midterm: 98\n",
            "Finals:  97\n",
            "Average: 97.33333333333333\n",
            " \n",
            "Student name: student_3\n",
            "Prelim: 75\n",
            "Midterm: 82\n",
            "Finals:  76\n",
            "Average: 77.66666666666667\n",
            " \n"
          ]
        }
      ]
    }
  ]
}