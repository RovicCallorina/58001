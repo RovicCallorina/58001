{
  "nbformat": 4,
  "nbformat_minor": 0,
  "metadata": {
    "colab": {
      "provenance": [],
      "authorship_tag": "ABX9TyP3TK8w3Yf06xMTOaqHPkCb",
      "include_colab_link": true
    },
    "kernelspec": {
      "name": "python3",
      "display_name": "Python 3"
    },
    "language_info": {
      "name": "python"
    }
  },
  "cells": [
    {
      "cell_type": "markdown",
      "metadata": {
        "id": "view-in-github",
        "colab_type": "text"
      },
      "source": [
        "<a href=\"https://colab.research.google.com/github/RovicCallorina/OOP-58001/blob/main/Lab_Activity_2.ipynb\" target=\"_parent\"><img src=\"https://colab.research.google.com/assets/colab-badge.svg\" alt=\"Open In Colab\"/></a>"
      ]
    },
    {
      "cell_type": "code",
      "source": [
        "class Circle:\n",
        "  def  __init__(self, radius,pi):\n",
        "    self.radius = radius\n",
        "    self.pi = pi\n",
        "\n",
        "  def perimeter(self):\n",
        "     return self.pi * self.radius ** 2\n",
        "  def area(self):\n",
        "    return 2 * self.pi * self.radius\n",
        "  def result(self):\n",
        "    print(\"Perimeter:\", round(self.perimeter(), 2))\n",
        "    print(\"Area:\", round(self.area(), 2))\n",
        "\n",
        "r = int(input(\"Enter Radius: \"))\n",
        "\n",
        "value = Circle(r, 3.141592653589793)\n",
        "value.result()"
      ],
      "metadata": {
        "colab": {
          "base_uri": "https://localhost:8080/"
        },
        "id": "3Z9HryVewyWV",
        "outputId": "7ad82be1-3f56-41e8-ba5c-4d66c900e750"
      },
      "execution_count": 11,
      "outputs": [
        {
          "output_type": "stream",
          "name": "stdout",
          "text": [
            "Enter Radius: 5\n",
            "Perimeter: 78.54\n",
            "Area: 31.42\n"
          ]
        }
      ]
    }
  ]
}