{
  "nbformat": 4,
  "nbformat_minor": 0,
  "metadata": {
    "colab": {
      "provenance": [],
      "authorship_tag": "ABX9TyMHPUw9887mFJG8xQJobI1B",
      "include_colab_link": true
    },
    "kernelspec": {
      "name": "python3",
      "display_name": "Python 3"
    },
    "language_info": {
      "name": "python"
    }
  },
  "cells": [
    {
      "cell_type": "markdown",
      "metadata": {
        "id": "view-in-github",
        "colab_type": "text"
      },
      "source": [
        "<a href=\"https://colab.research.google.com/github/RovicCallorina/OOP-58001/blob/main/Lists%2C_Tuples%2C_and_Dictionaries.ipynb\" target=\"_parent\"><img src=\"https://colab.research.google.com/assets/colab-badge.svg\" alt=\"Open In Colab\"/></a>"
      ]
    },
    {
      "cell_type": "markdown",
      "source": [
        "Functions"
      ],
      "metadata": {
        "id": "T0EybAxAJgM4"
      }
    },
    {
      "cell_type": "code",
      "source": [
        "class Shapes:\n",
        "  def __init__(self, length, width):\n",
        "    self.length = length\n",
        "    self.width = width\n",
        "  def area(self):\n",
        "    return self.length * self.width\n",
        "\n",
        "rectangle = Shapes (10,5)\n",
        "rectangle.area()"
      ],
      "metadata": {
        "colab": {
          "base_uri": "https://localhost:8080/"
        },
        "id": "of4VSb1WL0Ip",
        "outputId": "fbe6268c-60fc-4e52-9055-7b578e0852a9"
      },
      "execution_count": 22,
      "outputs": [
        {
          "output_type": "execute_result",
          "data": {
            "text/plain": [
              "50"
            ]
          },
          "metadata": {},
          "execution_count": 22
        }
      ]
    },
    {
      "cell_type": "code",
      "source": [
        "class Shapes:\n",
        "  def __init__(self, side):\n",
        "    self.side = side\n",
        "  def areasqr(self):\n",
        "    return self.side**2\n",
        "  \n",
        "square = Shapes(5)\n",
        "square.areasqr()"
      ],
      "metadata": {
        "colab": {
          "base_uri": "https://localhost:8080/"
        },
        "id": "bMCLoVCnO1_1",
        "outputId": "d755577f-a0ad-4c48-e931-3ecda24b09d8"
      },
      "execution_count": 28,
      "outputs": [
        {
          "output_type": "execute_result",
          "data": {
            "text/plain": [
              "25"
            ]
          },
          "metadata": {},
          "execution_count": 28
        }
      ]
    },
    {
      "cell_type": "code",
      "source": [
        "pow(10,2)\n",
        "array = [\"apple\", \"banana\", \"orange\"]\n",
        "array.insert(0, \"cherry\")\n",
        "print (array)"
      ],
      "metadata": {
        "colab": {
          "base_uri": "https://localhost:8080/"
        },
        "id": "xCyHMa3GNdYE",
        "outputId": "0fd23474-7567-4779-fc31-623fb012091d"
      },
      "execution_count": 19,
      "outputs": [
        {
          "output_type": "stream",
          "name": "stdout",
          "text": [
            "['cherry', 'apple', 'banana', 'orange']\n"
          ]
        }
      ]
    },
    {
      "cell_type": "code",
      "source": [
        "#create a function that will show your full name.\n",
        "\n",
        "class Person:\n",
        "  def __init__(self, fname, mname, lname, age):\n",
        "    self.fname = fname\n",
        "    self.mname = mname\n",
        "    self.lname = lname\n",
        "    self.age = age\n",
        "\n",
        "  def fname1(self):\n",
        "    return self.lname + self.fname + self.mname + self.age\n",
        "\n",
        "info = Person(\" Robert Victor \", \"A. \", \" Callorina\",\"18 Years Old\")\n",
        "info.fname1()"
      ],
      "metadata": {
        "colab": {
          "base_uri": "https://localhost:8080/",
          "height": 36
        },
        "id": "utVrO-irQH5W",
        "outputId": "59d9889e-2007-4532-b8f5-e6539975c89c"
      },
      "execution_count": 41,
      "outputs": [
        {
          "output_type": "execute_result",
          "data": {
            "text/plain": [
              "' Callorina Robert Victor A. 18 Years Old'"
            ],
            "application/vnd.google.colaboratory.intrinsic+json": {
              "type": "string"
            }
          },
          "metadata": {},
          "execution_count": 41
        }
      ]
    },
    {
      "cell_type": "markdown",
      "source": [
        "List"
      ],
      "metadata": {
        "id": "84Q_UcRmU13l"
      }
    },
    {
      "cell_type": "code",
      "source": [
        "pi = 3.14159\n",
        "varlist = ['abc',1 ,'def', 2] \n",
        "print(varlist[0])\n",
        "\n",
        "varlist.append('ghi')\n",
        "print(varlist)\n",
        "varlist.remove(2)\n",
        "print(varlist)\n",
        "              #index\n",
        "varlist.insert(3,5)\n",
        "print(varlist)"
      ],
      "metadata": {
        "colab": {
          "base_uri": "https://localhost:8080/"
        },
        "id": "Z9n0eCKpU1St",
        "outputId": "8a043341-50f7-402c-a755-1f002ba23139"
      },
      "execution_count": 52,
      "outputs": [
        {
          "output_type": "stream",
          "name": "stdout",
          "text": [
            "abc\n",
            "['abc', 1, 'def', 2, 'ghi']\n",
            "['abc', 1, 'def', 'ghi']\n",
            "['abc', 1, 'def', 5, 'ghi']\n"
          ]
        }
      ]
    },
    {
      "cell_type": "markdown",
      "source": [
        "Dictionaries"
      ],
      "metadata": {
        "id": "eABnIJ6VWE3t"
      }
    },
    {
      "cell_type": "code",
      "source": [
        "students = {\n",
        "           1:\"emin\",\n",
        "           2:\"jim\",\n",
        "           3:\"rovic\",\n",
        "           4:\"kit\",\n",
        "           5:\"Jcruz\"\n",
        "}\n",
        "print(students)"
      ],
      "metadata": {
        "colab": {
          "base_uri": "https://localhost:8080/"
        },
        "id": "qm8m0dD4WF2c",
        "outputId": "eee7a734-1bc4-4dfe-efd7-69efa00cdaed"
      },
      "execution_count": 53,
      "outputs": [
        {
          "output_type": "stream",
          "name": "stdout",
          "text": [
            "{1: 'emin', 2: 'jim', 3: 'rovic', 4: 'kit', 5: 'Jcruz'}\n"
          ]
        }
      ]
    }
  ]
}