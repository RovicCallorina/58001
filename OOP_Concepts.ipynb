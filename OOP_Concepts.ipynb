{
  "nbformat": 4,
  "nbformat_minor": 0,
  "metadata": {
    "colab": {
      "provenance": [],
      "authorship_tag": "ABX9TyM2gBVh+mp17hPaLgjhfCHL",
      "include_colab_link": true
    },
    "kernelspec": {
      "name": "python3",
      "display_name": "Python 3"
    },
    "language_info": {
      "name": "python"
    }
  },
  "cells": [
    {
      "cell_type": "markdown",
      "metadata": {
        "id": "view-in-github",
        "colab_type": "text"
      },
      "source": [
        "<a href=\"https://colab.research.google.com/github/RovicCallorina/OOP-58001/blob/main/OOP_Concepts.ipynb\" target=\"_parent\"><img src=\"https://colab.research.google.com/assets/colab-badge.svg\" alt=\"Open In Colab\"/></a>"
      ]
    },
    {
      "cell_type": "code",
      "execution_count": null,
      "metadata": {
        "colab": {
          "base_uri": "https://localhost:8080/"
        },
        "id": "-Sc5XtU3VFmc",
        "outputId": "34848858-5d87-44a9-92f7-296ac80d325a"
      },
      "outputs": [
        {
          "output_type": "stream",
          "name": "stdout",
          "text": [
            "Griffon Vulture Flies above clouds\n",
            "Common Crane Flies above clouds\n",
            "Emu is the national bird of the Philippines\n"
          ]
        }
      ],
      "source": [
        "#Demo 1\n",
        "\n",
        "class Birds:\n",
        "  def  __init__(self,bird_name):\n",
        "    self.bird_name = bird_name\n",
        "  def flying_birds(self):\n",
        "    print(f\"{self.bird_name} Flies above clouds\")\n",
        "  def non_flying_birds(self):\n",
        "    print(f\"{self.bird_name} is the national bird of the Philippines\")\n",
        "\n",
        "\n",
        "vulture = Birds(\"Griffon Vulture\")\n",
        "crane = Birds(\"Common Crane\")\n",
        "emu = Birds (\"Emu\")\n",
        "\n",
        "vulture.flying_birds()\n",
        "crane.flying_birds()\n",
        "emu.non_flying_birds()\n",
        "\n",
        "  "
      ]
    },
    {
      "cell_type": "code",
      "source": [
        "#Encapsulations\n",
        "     #Hiding info\n",
        "\n",
        "class foo:\n",
        "  def __init__(self,a,b):\n",
        "    self.a = a\n",
        "    self.b = b\n",
        "  def add(self):\n",
        "    return self.a + self.b\n",
        "\n",
        "foo_object = foo(3,4)\n",
        "foo_object.add()\n",
        "\n"
      ],
      "metadata": {
        "colab": {
          "base_uri": "https://localhost:8080/"
        },
        "id": "p8ZTZWvBXiKd",
        "outputId": "409f5c3f-df09-4fac-82f6-1f3e3d2c136a"
      },
      "execution_count": null,
      "outputs": [
        {
          "output_type": "execute_result",
          "data": {
            "text/plain": [
              "7"
            ]
          },
          "metadata": {},
          "execution_count": 16
        }
      ]
    },
    {
      "cell_type": "code",
      "source": [
        "#Encapsulations\n",
        "  #mangling using double underscore\n",
        "class foo:\n",
        "  def __init__(self,a,b):\n",
        "    self.__a = a\n",
        "    self.__b = b\n",
        "  def add(self):\n",
        "    return self.__a + self.__b\n",
        "\n",
        "foo_object = foo(3,4)\n",
        "foo_object.add()\n",
        "foo_object.a = 5\n",
        "foo_object.add()\n",
        "\n",
        "\n"
      ],
      "metadata": {
        "colab": {
          "base_uri": "https://localhost:8080/"
        },
        "id": "FJrkbhCUaSxc",
        "outputId": "6bbeadaa-4722-424c-8e9f-4928546bde17"
      },
      "execution_count": 51,
      "outputs": [
        {
          "output_type": "execute_result",
          "data": {
            "text/plain": [
              "7"
            ]
          },
          "metadata": {},
          "execution_count": 51
        }
      ]
    },
    {
      "cell_type": "code",
      "source": [
        "class Counter:\n",
        "  def __init__(self):\n",
        "    self.current = 0\n",
        "  def increment(self):\n",
        "    self.current += 1\n",
        "  def value(self):\n",
        "    return self.current\n",
        "  def reset(self):\n",
        "    self.current = 0                              #set = 1\n",
        "                                                  #reset = 0"
      ],
      "metadata": {
        "id": "l45xEqKkb_D5"
      },
      "execution_count": 46,
      "outputs": []
    },
    {
      "cell_type": "code",
      "source": [
        "#inheritance \n",
        "  #WAY OF ARRANGING the objects in hierarchy from most general to common\n",
        "  #inherit class/attributes\n",
        "\n",
        "class Person:\n",
        "  def  __init__(self,name, birthdate):\n",
        "    self.name = name\n",
        "    self.birthdate = birthdate\n",
        "  def display(self):\n",
        "    print(f\"My name is\", self.name)\n",
        "    print(f\"My birthdate is\", self.birthdate)\n",
        "\n",
        "class Student(Person):   #inherit the attributes from person\n",
        "  pass                   # not type any method/attribute #inherit\n",
        "class Teacher(Person):   \n",
        "  pass   \n",
        "\n",
        "student = Student(\"vivviccc\", \"Sept 24, 2004\")\n",
        "student.display()\n",
        "teacher = Teacher (\"Jeam\", \"Feb 29, 1999\")\n",
        "teacher.display()"
      ],
      "metadata": {
        "colab": {
          "base_uri": "https://localhost:8080/"
        },
        "id": "29NXDXcOdQN5",
        "outputId": "63c6a97b-57c9-40bd-8204-12c116f5afb6"
      },
      "execution_count": 34,
      "outputs": [
        {
          "output_type": "stream",
          "name": "stdout",
          "text": [
            "My name is vivviccc\n",
            "My birthdate is Sept 24, 2004\n",
            "My name is Jeam\n",
            "My birthdate is Feb 29, 1999\n"
          ]
        }
      ]
    },
    {
      "cell_type": "code",
      "source": [
        "#create a super class name Shapes\n",
        "\n",
        "class Shapes:\n",
        "  def  __init__(self, name, side):\n",
        "    self.__name = name\n",
        "    self.__side = side\n",
        "  def display(self):\n",
        "    print(f\"Shape:\", self.__name)\n",
        "    print(f\"Sides of the shapes:\", self.__side)\n",
        "\n",
        "class Triangle(Shapes):\n",
        "  pass\n",
        "class Square(Shapes):\n",
        "  pass\n",
        "class Pentagon(Shapes):\n",
        "  pass\n",
        "class Hexagon(Shapes):\n",
        "  pass\n",
        "class Nonagon(Shapes):\n",
        "  pass\n",
        "\n",
        "triangle = Shapes(\"Triangle\", '3')\n",
        "triangle.display()\n",
        "\n",
        "Square= Shapes(\"Sqaure\", '4')\n",
        "Square.display()\n",
        "\n",
        "pentagon= Shapes(\"Pentagon\", '5')\n",
        "pentagon.display()\n",
        "\n",
        "Hexagon= Shapes(\"Hexagon\", '7')\n",
        "Hexagon.display()\n",
        "\n",
        "Nonagon= Shapes(\"Nonagon\", '9')\n",
        "Nonagon.display()\n",
        "Nonagon.name = \"qwer\"\n",
        "Nonagon.side = '11'\n",
        "\n"
      ],
      "metadata": {
        "colab": {
          "base_uri": "https://localhost:8080/"
        },
        "id": "CEHa4roegg0c",
        "outputId": "e74f9b09-4f22-4df5-c4bb-033167a7ce1d"
      },
      "execution_count": 55,
      "outputs": [
        {
          "output_type": "stream",
          "name": "stdout",
          "text": [
            "Shape: Triangle\n",
            "Sides of the shapes: 3\n",
            "Shape: Sqaure\n",
            "Sides of the shapes: 4\n",
            "Shape: Pentagon\n",
            "Sides of the shapes: 5\n",
            "Shape: Hexagon\n",
            "Sides of the shapes: 7\n",
            "Shape: Nonagon\n",
            "Sides of the shapes: 9\n"
          ]
        }
      ]
    }
  ]
}