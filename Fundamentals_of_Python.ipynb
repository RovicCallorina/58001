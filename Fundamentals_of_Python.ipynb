{
  "nbformat": 4,
  "nbformat_minor": 0,
  "metadata": {
    "colab": {
      "provenance": [],
      "include_colab_link": true
    },
    "kernelspec": {
      "name": "python3",
      "display_name": "Python 3"
    },
    "language_info": {
      "name": "python"
    }
  },
  "cells": [
    {
      "cell_type": "markdown",
      "metadata": {
        "id": "view-in-github",
        "colab_type": "text"
      },
      "source": [
        "<a href=\"https://colab.research.google.com/github/RovicCallorina/OOP-58001/blob/main/Fundamentals_of_Python.ipynb\" target=\"_parent\"><img src=\"https://colab.research.google.com/assets/colab-badge.svg\" alt=\"Open In Colab\"/></a>"
      ]
    },
    {
      "cell_type": "markdown",
      "source": [
        "Indentation"
      ],
      "metadata": {
        "id": "_UgPgR-uRTM1"
      }
    },
    {
      "cell_type": "code",
      "source": [
        "if 5 > 2:\n",
        "  print(\"Five is greater than two\")"
      ],
      "metadata": {
        "colab": {
          "base_uri": "https://localhost:8080/"
        },
        "id": "TflWm3FpRtj_",
        "outputId": "f9e90266-7adc-484c-d76b-7ae723d98293"
      },
      "execution_count": null,
      "outputs": [
        {
          "output_type": "stream",
          "name": "stdout",
          "text": [
            "Five is greater than two\n"
          ]
        }
      ]
    },
    {
      "cell_type": "markdown",
      "source": [
        "Python Comment"
      ],
      "metadata": {
        "id": "txa1BsZASWvX"
      }
    },
    {
      "cell_type": "code",
      "source": [
        "#this is a comment\n",
        "print(\"Hello world!\")"
      ],
      "metadata": {
        "colab": {
          "base_uri": "https://localhost:8080/"
        },
        "id": "K_aYHMhCScWg",
        "outputId": "fc16f021-00f4-488f-9edd-a46ae9530012"
      },
      "execution_count": null,
      "outputs": [
        {
          "output_type": "stream",
          "name": "stdout",
          "text": [
            "Hello world!\n"
          ]
        }
      ]
    },
    {
      "cell_type": "markdown",
      "source": [
        "Python Variable"
      ],
      "metadata": {
        "id": "NzvX7rmhSsUA"
      }
    },
    {
      "cell_type": "code",
      "source": [
        "#single value with single variable\n",
        "x = 1 \n",
        "#single variable with multiple values\n",
        "array = 1, 2, 3\n",
        "print ( array )\n",
        "\n",
        "#multiple variables with single value\n",
        "a = b = c =\"Vic\"\n",
        "print (a)\n",
        "print (b)\n",
        "print (c)"
      ],
      "metadata": {
        "colab": {
          "base_uri": "https://localhost:8080/"
        },
        "id": "bQjZ6MnCTSae",
        "outputId": "47c471f8-8266-4e2b-e374-e885b8ee9e68"
      },
      "execution_count": null,
      "outputs": [
        {
          "output_type": "stream",
          "name": "stdout",
          "text": [
            "(1, 2, 3)\n",
            "Vic\n",
            "Vic\n",
            "Vic\n"
          ]
        }
      ]
    },
    {
      "cell_type": "markdown",
      "source": [
        "Casting"
      ],
      "metadata": {
        "id": "ez4JOFW1UuAo"
      }
    },
    {
      "cell_type": "code",
      "source": [
        "n = int(4)\n",
        "print(n)"
      ],
      "metadata": {
        "colab": {
          "base_uri": "https://localhost:8080/"
        },
        "id": "PFCHZrYcU2pQ",
        "outputId": "cf03445b-0231-462c-b33e-4eb5e7733291"
      },
      "execution_count": null,
      "outputs": [
        {
          "output_type": "stream",
          "name": "stdout",
          "text": [
            "4\n"
          ]
        }
      ]
    },
    {
      "cell_type": "markdown",
      "source": [
        "Type Function"
      ],
      "metadata": {
        "id": "YrhhH849VF6o"
      }
    },
    {
      "cell_type": "code",
      "source": [
        "c = \"sally\"\n",
        "d = 5.6\n",
        "\n",
        "print(type(c))\n",
        "print(type(d))"
      ],
      "metadata": {
        "colab": {
          "base_uri": "https://localhost:8080/"
        },
        "id": "m7U2Uix7VHmw",
        "outputId": "36ba9342-9138-4c41-dbd2-ca7074f266d2"
      },
      "execution_count": null,
      "outputs": [
        {
          "output_type": "stream",
          "name": "stdout",
          "text": [
            "<class 'str'>\n",
            "<class 'float'>\n"
          ]
        }
      ]
    },
    {
      "cell_type": "markdown",
      "source": [
        "Double qoutes or Single Qoutes"
      ],
      "metadata": {
        "id": "YscKZ1GYqmUa"
      }
    },
    {
      "cell_type": "code",
      "source": [
        "y = \"john\"\n",
        "y = 'john'\n"
      ],
      "metadata": {
        "id": "Nwif5VKFqm0F"
      },
      "execution_count": 43,
      "outputs": []
    },
    {
      "cell_type": "markdown",
      "source": [
        "Case sensitive"
      ],
      "metadata": {
        "id": "FJZYbb2nq4i2"
      }
    },
    {
      "cell_type": "code",
      "source": [
        "a = 4\n",
        "A = \"Vic\"\n",
        "\n",
        "#A will not overwrite a"
      ],
      "metadata": {
        "id": "sz8mkhM9q79J"
      },
      "execution_count": 45,
      "outputs": []
    },
    {
      "cell_type": "markdown",
      "source": [
        "Multiple Variables"
      ],
      "metadata": {
        "id": "n_rYU8HUrLMQ"
      }
    },
    {
      "cell_type": "code",
      "source": [
        "x,y,z = \"one\",\"two\",\"three\"\n",
        "\n",
        "print(x)\n",
        "print(y)\n",
        "print(z)"
      ],
      "metadata": {
        "id": "506_FxttrNFB",
        "outputId": "9a23bfe7-1b96-4d8e-c4a9-9c125244f32f",
        "colab": {
          "base_uri": "https://localhost:8080/"
        }
      },
      "execution_count": 5,
      "outputs": [
        {
          "output_type": "stream",
          "name": "stdout",
          "text": [
            "one\n",
            "two\n",
            "three\n"
          ]
        }
      ]
    },
    {
      "cell_type": "markdown",
      "source": [
        "One Value to Multiple variables"
      ],
      "metadata": {
        "id": "Hg5vshp1rb1a"
      }
    },
    {
      "cell_type": "code",
      "source": [
        "x = y = z =\"Four\"\n",
        "print(x)\n",
        "print(y)\n",
        "print(z)"
      ],
      "metadata": {
        "id": "v1-4mAA7rel0",
        "outputId": "f47b4955-57d0-43ac-a915-ae4028c82d81",
        "colab": {
          "base_uri": "https://localhost:8080/"
        }
      },
      "execution_count": 6,
      "outputs": [
        {
          "output_type": "stream",
          "name": "stdout",
          "text": [
            "Four\n",
            "Four\n",
            "Four\n"
          ]
        }
      ]
    },
    {
      "cell_type": "markdown",
      "source": [
        "Output Variables"
      ],
      "metadata": {
        "id": "YKnfzKnlrofV"
      }
    },
    {
      "cell_type": "code",
      "source": [
        "x = \"interesting\"\n",
        "print(\"Python programming is \" + x)"
      ],
      "metadata": {
        "id": "0C68Y8ylrpyp",
        "outputId": "2bb0cc81-9b1d-416b-ef57-0e8130165f40",
        "colab": {
          "base_uri": "https://localhost:8080/"
        }
      },
      "execution_count": 9,
      "outputs": [
        {
          "output_type": "stream",
          "name": "stdout",
          "text": [
            "Python programming is interesting\n"
          ]
        }
      ]
    },
    {
      "cell_type": "markdown",
      "source": [
        "Other way"
      ],
      "metadata": {
        "id": "5q4tlxq2r26Y"
      }
    },
    {
      "cell_type": "code",
      "source": [
        "a = \"interesting\"\n",
        "b = \"Programming is \"\n",
        "c = b + a\n",
        "\n",
        "print(c)"
      ],
      "metadata": {
        "id": "Z59qeH9er630",
        "outputId": "a7ebe521-4769-40e6-81dc-bddb74e92adb",
        "colab": {
          "base_uri": "https://localhost:8080/"
        }
      },
      "execution_count": 12,
      "outputs": [
        {
          "output_type": "stream",
          "name": "stdout",
          "text": [
            "Programming is interesting\n"
          ]
        }
      ]
    },
    {
      "cell_type": "markdown",
      "source": [
        "Arithmetic operations"
      ],
      "metadata": {
        "id": "XXiPJAGysP-W"
      }
    },
    {
      "cell_type": "code",
      "source": [
        "q = 3\n",
        "w = 4\n",
        "print(q + w)"
      ],
      "metadata": {
        "id": "6GRRWb44sSZn",
        "outputId": "a890a71e-cdf4-43fb-8a2e-d508dcf9b4ee",
        "colab": {
          "base_uri": "https://localhost:8080/"
        }
      },
      "execution_count": 15,
      "outputs": [
        {
          "output_type": "stream",
          "name": "stdout",
          "text": [
            "7\n"
          ]
        }
      ]
    },
    {
      "cell_type": "code",
      "source": [
        "v = 10\n",
        "i = 2\n",
        "\n",
        "sum = v + i\n",
        "sum\n"
      ],
      "metadata": {
        "id": "hvNAt0ZZsfQV",
        "outputId": "65a09ffc-e2a3-485c-c2ff-a722aa404d7d",
        "colab": {
          "base_uri": "https://localhost:8080/"
        }
      },
      "execution_count": 38,
      "outputs": [
        {
          "output_type": "execute_result",
          "data": {
            "text/plain": [
              "12"
            ]
          },
          "metadata": {},
          "execution_count": 38
        }
      ]
    },
    {
      "cell_type": "markdown",
      "source": [
        "Assignment operators"
      ],
      "metadata": {
        "id": "G_gAssGmtPmH"
      }
    },
    {
      "cell_type": "code",
      "source": [
        "a,b,c = 0, -1, 6\n",
        "c%=3\n",
        "c"
      ],
      "metadata": {
        "id": "xReTiZM5tSPX",
        "outputId": "1271dd5e-ca8b-437f-dd26-f82415088dc6",
        "colab": {
          "base_uri": "https://localhost:8080/"
        }
      },
      "execution_count": 39,
      "outputs": [
        {
          "output_type": "execute_result",
          "data": {
            "text/plain": [
              "0"
            ]
          },
          "metadata": {},
          "execution_count": 39
        }
      ]
    },
    {
      "cell_type": "markdown",
      "source": [
        "Comparison and Logical Operators"
      ],
      "metadata": {
        "id": "a426ef1UvoPH"
      }
    },
    {
      "cell_type": "code",
      "source": [
        "a, b, c = 0, -1, 6\n",
        "a>b and c<b\n",
        "True"
      ],
      "metadata": {
        "id": "Okv5bFbCvqYz",
        "outputId": "d589904a-3704-479d-e4b5-54b530d6894c",
        "colab": {
          "base_uri": "https://localhost:8080/"
        }
      },
      "execution_count": 37,
      "outputs": [
        {
          "output_type": "execute_result",
          "data": {
            "text/plain": [
              "True"
            ]
          },
          "metadata": {},
          "execution_count": 37
        }
      ]
    },
    {
      "cell_type": "markdown",
      "source": [
        "Identity Operators"
      ],
      "metadata": {
        "id": "Ugujxuu-yof2"
      }
    },
    {
      "cell_type": "code",
      "source": [
        "a,b,c = 0,-1,5\n",
        "a is c\n",
        "False"
      ],
      "metadata": {
        "id": "JArNNfJoysgE",
        "outputId": "aaae8d1c-375c-4dcb-9fd6-708a2453bf9b",
        "colab": {
          "base_uri": "https://localhost:8080/"
        }
      },
      "execution_count": 40,
      "outputs": [
        {
          "output_type": "execute_result",
          "data": {
            "text/plain": [
              "False"
            ]
          },
          "metadata": {},
          "execution_count": 40
        }
      ]
    }
  ]
}